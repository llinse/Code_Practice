{
 "cells": [
  {
   "cell_type": "markdown",
   "metadata": {},
   "source": [
    "# 3.21课堂作业：\n",
    "\n",
    "# 单样本均值假设检验\n",
    "1. SRS抽到样本的总收入均值，是否显著有别与总体的总收入均值？\n",
    "2. Cluster抽到样本的总收入均值，是否显著有别与总体的总收入均值？\n",
    "3. Stratified抽到样本的总收入均值，是否显著有别与总体的总收入均值？\n",
    "4. Systematic抽到样本的总收入均值，是否显著有别与总体的总收入均值？\n",
    "5. Ordered Systematic抽到样本的总收入均值，是否显著有别与总体的总收入均值？\n",
    "\n",
    "# 双样本均值假设检验\n",
    "6. SRS VS Cluster\n",
    "7. SRS VS Stratified\n",
    "8. SRS VS Systematic\n",
    "9. SRS VS Ordered Systematic\n",
    " \n",
    "# 如果我想一次性对比SRS等五种抽样方法怎么办？\n",
    "One-Way ANOVA"
   ]
  },
  {
   "cell_type": "code",
   "execution_count": null,
   "metadata": {},
   "outputs": [],
   "source": [
    "SRS抽到样本的总收入均值，是否显著有别与总体的总收入均值？"
   ]
  },
  {
   "cell_type": "code",
   "execution_count": 4,
   "metadata": {
    "pycharm": {
     "is_executing": false
    }
   },
   "outputs": [
    {
     "name": "stdout",
     "output_type": "stream",
     "text": [
      "the p value is 0.635176\n",
      "Same distributions (fail to reject H0)\n",
      "无显著区别\n"
     ]
    }
   ],
   "source": [
    "\n",
    "\n",
    "from scipy.stats import ttest_ind, ttest_rel,ttest_1samp\n",
    "from scipy import stats\n",
    "import pandas as pd\n",
    "a=0.05\n",
    "df1=pd.read_csv(\"./RESULT/srs_result.csv\",nrows=30, index_col=0).values#读取数据\n",
    "total_avg=190768.7 #样本总体年收入的平均值\n",
    "\n",
    "AVG=df1[:,0]\n",
    "std=df1[:,1]\n",
    "\n",
    "p=ttest_1samp(AVG,total_avg)[1]#进行t检验\n",
    "print(\"the p value is %6f\" %p )\n",
    "if p > a:\n",
    "    print('Same distributions (fail to reject H0)')\n",
    "    print('无显著区别')\n",
    "else:\n",
    "    print('Different distributions (reject H0)')\n",
    "    print('有显著区别')"
   ]
  },
  {
   "cell_type": "markdown",
   "metadata": {},
   "source": [
    "Cluster抽到样本的总收入均值，是否显著有别与总体的总收入均值？\n"
   ]
  },
  {
   "cell_type": "code",
   "execution_count": 5,
   "metadata": {},
   "outputs": [
    {
     "name": "stdout",
     "output_type": "stream",
     "text": [
      "the p value is 0.080541\n",
      "Same distributions (fail to reject H0)\n",
      "无显著区别\n"
     ]
    }
   ],
   "source": [
    "\n",
    "from scipy.stats import ttest_ind, ttest_rel,ttest_1samp\n",
    "from scipy import stats\n",
    "import pandas as pd\n",
    "a=0.05\n",
    "df1=pd.read_csv(\"./RESULT/cluster_result.csv\",nrows=30, index_col=0).values#读取数据\n",
    "total_avg=190768.7 #样本总体年收入的平均值   \n",
    "#print(total_avg)\n",
    "#print(df1)\n",
    "AVG=df1[:,0]\n",
    "std=df1[:,1]\n",
    "#print(AVG)\n",
    "#print(std)\n",
    "p=ttest_1samp(AVG,total_avg)[1]#进行t检验\n",
    "print(\"the p value is %6f\" %p )\n",
    "if p > a:\n",
    "    print('Same distributions (fail to reject H0)')\n",
    "    print('无显著区别')\n",
    "else:\n",
    "    print('Different distributions (reject H0)')\n",
    "    print('有显著区别')"
   ]
  },
  {
   "cell_type": "markdown",
   "metadata": {},
   "source": [
    "Stratified抽到样本的总收入均值，是否显著有别与总体的总收入均值？ 以Gender&Race&Workclass为例 "
   ]
  },
  {
   "cell_type": "code",
   "execution_count": 6,
   "metadata": {},
   "outputs": [
    {
     "name": "stdout",
     "output_type": "stream",
     "text": [
      "the p value is 0.111031\n",
      "Same distributions (fail to reject H0)\n",
      "无显著区别\n"
     ]
    }
   ],
   "source": [
    "\n",
    "from scipy.stats import ttest_ind, ttest_rel,ttest_1samp\n",
    "from scipy import stats\n",
    "import pandas as pd\n",
    "a=0.05\n",
    "df1=pd.read_csv(\"./RESULT/stratified_Gender&Race&Workclass_result.csv\",nrows=30, index_col=0).values#读取数据\n",
    "total_avg=190768.7 #样本总体年收入的平均值    \n",
    "#print(total_avg)\n",
    "#print(df1)\n",
    "AVG=df1[:,0]\n",
    "std=df1[:,1]\n",
    "#print(AVG)\n",
    "#print(std)\n",
    "p=ttest_1samp(AVG,total_avg)[1]#进行t检验\n",
    "print(\"the p value is %6f\" %p )\n",
    "if p > a:\n",
    "    print('Same distributions (fail to reject H0)')\n",
    "    print('无显著区别')\n",
    "else:\n",
    "    print('Different distributions (reject H0)')\n",
    "    print('有显著区别')"
   ]
  },
  {
   "cell_type": "code",
   "execution_count": null,
   "metadata": {},
   "outputs": [],
   "source": [
    "Systematic抽到样本的总收入均值，是否显著有别与总体的总收入均值？ "
   ]
  },
  {
   "cell_type": "code",
   "execution_count": 7,
   "metadata": {},
   "outputs": [
    {
     "name": "stdout",
     "output_type": "stream",
     "text": [
      "the p value is 0.146512\n",
      "Same distributions (fail to reject H0)\n",
      "无显著区别\n"
     ]
    }
   ],
   "source": [
    "\n",
    "from scipy.stats import ttest_ind, ttest_rel,ttest_1samp\n",
    "from scipy import stats\n",
    "import pandas as pd\n",
    "a=0.05\n",
    "df1=pd.read_csv(\"./RESULT/systematic_None_result.csv\",nrows=30, index_col=0).values#读取数据\n",
    "total_avg=190768.7 #样本总体年收入的平均值    \n",
    "#print(total_avg)\n",
    "#print(df1)\n",
    "AVG=df1[:,0]\n",
    "std=df1[:,1]\n",
    "#print(AVG)\n",
    "#print(std)\n",
    "p=ttest_1samp(AVG,total_avg)[1]#进行t检验\n",
    "print(\"the p value is %6f\" %p )\n",
    "if p > a:\n",
    "    print('Same distributions (fail to reject H0)')\n",
    "    print('无显著区别')\n",
    "else:\n",
    "    print('Different distributions (reject H0)')\n",
    "    print('有显著区别')"
   ]
  },
  {
   "cell_type": "markdown",
   "metadata": {},
   "source": [
    "Ordered Systematic抽到样本的总收入均值，是否显著有别与总体的总收入均值？ 以Age&Edu_Level为例"
   ]
  },
  {
   "cell_type": "code",
   "execution_count": 8,
   "metadata": {
    "scrolled": true
   },
   "outputs": [
    {
     "name": "stdout",
     "output_type": "stream",
     "text": [
      "the p value is 0.812661\n",
      "Same distributions (fail to reject H0)\n",
      "无显著区别\n"
     ]
    }
   ],
   "source": [
    "\n",
    "from scipy.stats import ttest_ind, ttest_rel,ttest_1samp\n",
    "from scipy import stats\n",
    "import pandas as pd\n",
    "a=0.05\n",
    "df1=pd.read_csv(\"./RESULT/systematic_Age&Edu_Level_result.csv\",nrows=30, index_col=0).values#读取数据\n",
    "total_avg=190768.7 #样本总体年收入的平均值    \n",
    "#print(df1)\n",
    "AVG=df1[:,0]\n",
    "std=df1[:,1]\n",
    "#print(AVG)\n",
    "#print(std)\n",
    "p=ttest_1samp(AVG,total_avg)[1]#进行t检验\n",
    "print(\"the p value is %6f\" %p )\n",
    "if p > a:\n",
    "    print('Same distributions (fail to reject H0)')\n",
    "    print('无显著区别')\n",
    "else:\n",
    "    print('Different distributions (reject H0)')\n",
    "    print('有显著区别')"
   ]
  },
  {
   "cell_type": "code",
   "execution_count": null,
   "metadata": {},
   "outputs": [],
   "source": [
    "SRS VS Cluster"
   ]
  },
  {
   "cell_type": "code",
   "execution_count": 9,
   "metadata": {},
   "outputs": [
    {
     "name": "stdout",
     "output_type": "stream",
     "text": [
      "不具有方差齐性\n",
      "the p value is 0.070497\n",
      "Same distributions (fail to reject H0)\n",
      "均值无显著区别\n"
     ]
    }
   ],
   "source": [
    "\n",
    "from scipy.stats import ttest_ind, ttest_rel,ttest_1samp\n",
    "from scipy import stats\n",
    "import pandas as pd\n",
    "a=0.05\n",
    "df1=pd.read_csv(\"./RESULT/srs_result.csv\",nrows=30, index_col=0).values#读取数据\n",
    "df2=pd.read_csv(\"./RESULT/cluster_result.csv\",nrows=30, index_col=0).values\n",
    "\n",
    "AVG1=df1[:,0]\n",
    "AVG2=df2[:,0]\n",
    "#print(AVG)\n",
    "#print(std)\n",
    "\n",
    "v=stats.levene(AVG1,AVG2)[1]\n",
    "if v > a:\n",
    "    equal=True\n",
    "    print('具有方差齐性')\n",
    "else:\n",
    "    equal=False\n",
    "    print('不具有方差齐性')# 判断两数据的方差是否相等（是否具有方差齐性）\n",
    "\n",
    "p=ttest_ind(AVG1,AVG2,equal_var=equal)[1]#进行t检验\n",
    "print(\"the p value is %6f\" %p )\n",
    "if p > a:\n",
    "    print('Same distributions (fail to reject H0)')\n",
    "    print('均值无显著区别')\n",
    "else:\n",
    "    print('Different distributions (reject H0)')\n",
    "    print('均值有显著区别')"
   ]
  },
  {
   "cell_type": "markdown",
   "metadata": {},
   "source": [
    "SRS VS Stratified（以Gender&Race&Workclass为例 ）"
   ]
  },
  {
   "cell_type": "code",
   "execution_count": 10,
   "metadata": {
    "scrolled": true
   },
   "outputs": [
    {
     "name": "stdout",
     "output_type": "stream",
     "text": [
      "具有方差齐性\n",
      "the p value is 0.148656\n",
      "Same distributions (fail to reject H0)\n",
      "均值无显著区别\n"
     ]
    }
   ],
   "source": [
    "\n",
    "from scipy.stats import ttest_ind, ttest_rel,ttest_1samp\n",
    "from scipy import stats\n",
    "import pandas as pd\n",
    "a=0.05\n",
    "df1=pd.read_csv(\"./RESULT/srs_result.csv\",nrows=30, index_col=0).values#读取数据\n",
    "df2=pd.read_csv(\"./RESULT/stratified_Gender&Race&Workclass_result.csv\",nrows=30, index_col=0).values\n",
    "\n",
    "AVG1=df1[:,0]#抽取AVG.income这一列\n",
    "AVG2=df2[:,0]\n",
    "\n",
    "v=stats.levene(AVG1,AVG2)[1]\n",
    "if v > a:\n",
    "    equal=True\n",
    "    print('具有方差齐性')\n",
    "else:\n",
    "    equal=False\n",
    "    print('不具有方差齐性')# 判断两数据的方差是否相等（是否具有方差齐性）\n",
    "\n",
    "p=ttest_ind(AVG1,AVG2,equal_var=equal)[1]#进行t检验\n",
    "print(\"the p value is %6f\" %p )\n",
    "if p > a:\n",
    "    print('Same distributions (fail to reject H0)')\n",
    "    print('均值无显著区别')\n",
    "else:\n",
    "    print('Different distributions (reject H0)')\n",
    "    print('均值有显著区别')"
   ]
  },
  {
   "cell_type": "code",
   "execution_count": null,
   "metadata": {},
   "outputs": [],
   "source": [
    "SRS VS Systematic"
   ]
  },
  {
   "cell_type": "code",
   "execution_count": 3,
   "metadata": {},
   "outputs": [
    {
     "name": "stdout",
     "output_type": "stream",
     "text": [
      "具有方差齐性\n",
      "the p value is 0.192280\n",
      "Same distributions (fail to reject H0)\n",
      "均值无显著区别\n"
     ]
    }
   ],
   "source": [
    "\n",
    "\n",
    "from numpy.random import randn\n",
    "from scipy.stats import ttest_ind, ttest_rel,ttest_1samp\n",
    "from scipy import stats\n",
    "import pandas as pd\n",
    "a=0.05\n",
    "df1=pd.read_csv(\"./RESULT/srs_result.csv\",nrows=30, index_col=0).values#读取数据\n",
    "df2=pd.read_csv(\"./RESULT/systematic_None_result.csv\",nrows=30, index_col=0).values\n",
    "\n",
    "AVG1=df1[:,0]#抽取AVG.income这一列\n",
    "AVG2=df2[:,0]\n",
    "\n",
    "v=stats.levene(AVG1,AVG2)[1]\n",
    "if v > a:\n",
    "    equal=True\n",
    "    print('具有方差齐性')\n",
    "else:\n",
    "    equal=False\n",
    "    print('不具有方差齐性')# 判断两数据的方差是否相等（是否具有方差齐性）\n",
    "\n",
    "p=ttest_ind(AVG1,AVG2,equal_var=equal)[1]#进行t检验\n",
    "print(\"the p value is %6f\" %p )\n",
    "if p > a:\n",
    "    print('Same distributions (fail to reject H0)')\n",
    "    print('均值无显著区别')\n",
    "else:\n",
    "    print('Different distributions (reject H0)')\n",
    "    print('均值有显著区别')"
   ]
  },
  {
   "cell_type": "markdown",
   "metadata": {},
   "source": [
    "SRS VS Ordered Systematic  以Age&Edu_Level为例"
   ]
  },
  {
   "cell_type": "code",
   "execution_count": 11,
   "metadata": {},
   "outputs": [
    {
     "name": "stdout",
     "output_type": "stream",
     "text": [
      "具有方差齐性\n",
      "the p value is 0.883195\n",
      "Same distributions (fail to reject H0)\n",
      "均值无显著区别\n"
     ]
    }
   ],
   "source": [
    "\n",
    "from scipy.stats import ttest_ind, ttest_rel,ttest_1samp\n",
    "from scipy import stats\n",
    "import pandas as pd\n",
    "a=0.05\n",
    "df1=pd.read_csv(\"./RESULT/srs_result.csv\",nrows=30, index_col=0).values#读取数据\n",
    "df2=pd.read_csv(\"./RESULT/systematic_Age&Edu_Level_result.csv\",nrows=30, index_col=0).values\n",
    "\n",
    "AVG1=df1[:,0]#抽取AVG.income这一列\n",
    "AVG2=df2[:,0]\n",
    "\n",
    "v=stats.levene(AVG1,AVG2)[1]\n",
    "if v > a:\n",
    "    equal=True\n",
    "    print('具有方差齐性')\n",
    "else:\n",
    "    equal=False\n",
    "    print('不具有方差齐性')# 判断两数据的方差是否相等（是否具有方差齐性）\n",
    "\n",
    "p=ttest_ind(AVG1,AVG2,equal_var=equal)[1]#进行t检验\n",
    "print(\"the p value is %6f\" %p )\n",
    "if p > a:\n",
    "    print('Same distributions (fail to reject H0)')\n",
    "    print('均值无显著区别')\n",
    "else:\n",
    "    print('Different distributions (reject H0)')\n",
    "    print('均值有显著区别')"
   ]
  },
  {
   "cell_type": "code",
   "execution_count": null,
   "metadata": {},
   "outputs": [],
   "source": [
    "如果我想一次性对比SRS等五种抽样方法怎么办？"
   ]
  },
  {
   "cell_type": "code",
   "execution_count": 146,
   "metadata": {},
   "outputs": [
    {
     "name": "stdout",
     "output_type": "stream",
     "text": [
      "      Method     AVG_income\n",
      "0        srs  178564.805000\n",
      "1        srs  200142.870000\n",
      "2        srs  202841.450000\n",
      "3        srs  190746.495000\n",
      "4        srs  186394.585000\n",
      "..       ...            ...\n",
      "145  cluster  205977.696970\n",
      "146  cluster  187700.604061\n",
      "147  cluster  197276.000000\n",
      "148  cluster  191838.461988\n",
      "149  cluster  181667.756345\n",
      "\n",
      "[150 rows x 2 columns]\n",
      "\n",
      "\n"
     ]
    },
    {
     "data": {
      "text/html": [
       "<div>\n",
       "<style scoped>\n",
       "    .dataframe tbody tr th:only-of-type {\n",
       "        vertical-align: middle;\n",
       "    }\n",
       "\n",
       "    .dataframe tbody tr th {\n",
       "        vertical-align: top;\n",
       "    }\n",
       "\n",
       "    .dataframe thead th {\n",
       "        text-align: right;\n",
       "    }\n",
       "</style>\n",
       "<table border=\"1\" class=\"dataframe\">\n",
       "  <thead>\n",
       "    <tr style=\"text-align: right;\">\n",
       "      <th></th>\n",
       "      <th>sum_sq</th>\n",
       "      <th>df</th>\n",
       "      <th>F</th>\n",
       "      <th>PR(&gt;F)</th>\n",
       "    </tr>\n",
       "  </thead>\n",
       "  <tbody>\n",
       "    <tr>\n",
       "      <td>C(Method)</td>\n",
       "      <td>1.113440e+09</td>\n",
       "      <td>4.0</td>\n",
       "      <td>2.050359</td>\n",
       "      <td>0.090396</td>\n",
       "    </tr>\n",
       "    <tr>\n",
       "      <td>Residual</td>\n",
       "      <td>1.968543e+10</td>\n",
       "      <td>145.0</td>\n",
       "      <td>NaN</td>\n",
       "      <td>NaN</td>\n",
       "    </tr>\n",
       "  </tbody>\n",
       "</table>\n",
       "</div>"
      ],
      "text/plain": [
       "                 sum_sq     df         F    PR(>F)\n",
       "C(Method)  1.113440e+09    4.0  2.050359  0.090396\n",
       "Residual   1.968543e+10  145.0       NaN       NaN"
      ]
     },
     "execution_count": 146,
     "metadata": {},
     "output_type": "execute_result"
    }
   ],
   "source": [
    "import pandas as pd\n",
    "import researchpy as rp \n",
    "from statsmodels.formula.api import ols   \n",
    "import matplotlib.pyplot as plt\n",
    "import numpy as np\n",
    "import statsmodels.api as sm\n",
    "srs=pd.DataFrame(np.full([30,1], \"srs\"))#生成5种分类名称 为之后表格合并做准备 \n",
    "order_systematic=pd.DataFrame(np.full([30,1], \"order_systematic\"))\n",
    "systematic=pd.DataFrame(np.full([30,1], \"systematic\"))\n",
    "stratified=pd.DataFrame(np.full([30,1], \"stratified\"))\n",
    "cluster=pd.DataFrame(np.full([30,1], \"cluster\")) \n",
    "df1=pd.read_csv(\"./RESULT/srs_result.csv\",nrows=30, usecols=[\"Avg.income\"])#读取数据\n",
    "df2=pd.read_csv(\"./RESULT/systematic_Age&Edu_Level_result.csv\",nrows=30, usecols=[\"Avg.income\"])\n",
    "df3=pd.read_csv(\"./RESULT/systematic_None_result.csv\",nrows=30, usecols=[\"Avg.income\"])\n",
    "df4=pd.read_csv(\"./RESULT/stratified_Gender&Race&Workclass_result.csv\",nrows=30, usecols=[\"Avg.income\"])\n",
    "df5=pd.read_csv(\"./RESULT/cluster_result.csv\",nrows=30, usecols=[\"Avg.income\"])\n",
    "\n",
    "SRS=pd.concat([srs,df1], ignore_index=True,axis=1) #分别生成5个表格，第一列是抽样方法名称  第二列是每次抽样的均值 \n",
    "ORDER_SYS=pd.concat([order_systematic,df2], ignore_index=True,axis=1) \n",
    "SYS=pd.concat([systematic,df3], ignore_index=True,axis=1) \n",
    "STRA=pd.concat([stratified,df4], ignore_index=True,axis=1) \n",
    "CLUSTER=pd.concat([cluster,df5], ignore_index=True,axis=1) \n",
    "#以上所有都是将数据转为可进行分析的表格形式\n",
    "Total=pd.concat([SRS,ORDER_SYS,SYS,STRA,CLUSTER], ignore_index=True) #将所有数据合并至一张表 第一列是抽样方法名称  第二列是抽样的均值\n",
    "Total.columns = ['Method', 'AVG_income']#修改列名称\n",
    "print(Total) \n",
    "rp.summary_cont(Total['AVG_income'].groupby(Total['Method']))#数据统计量  \n",
    "import scipy.stats as stats\n",
    "import statsmodels.api as sm\n",
    "results = ols('AVG_income ~ C(Method)', data=Total).fit()#线性回归\n",
    "aov_table = sm.stats.anova_lm(results, typ=2)#单因素方差分析\n",
    "aov_table#单因素方差分析结果"
   ]
  },
  {
   "cell_type": "code",
   "execution_count": null,
   "metadata": {},
   "outputs": [],
   "source": []
  }
 ],
 "metadata": {
  "kernelspec": {
   "display_name": "Python 3",
   "language": "python",
   "name": "python3"
  },
  "language_info": {
   "codemirror_mode": {
    "name": "ipython",
    "version": 3
   },
   "file_extension": ".py",
   "mimetype": "text/x-python",
   "name": "python",
   "nbconvert_exporter": "python",
   "pygments_lexer": "ipython3",
   "version": "3.7.4"
  },
  "pycharm": {
   "stem_cell": {
    "cell_type": "raw",
    "metadata": {
     "collapsed": false
    },
    "source": []
   }
  }
 },
 "nbformat": 4,
 "nbformat_minor": 2
}
